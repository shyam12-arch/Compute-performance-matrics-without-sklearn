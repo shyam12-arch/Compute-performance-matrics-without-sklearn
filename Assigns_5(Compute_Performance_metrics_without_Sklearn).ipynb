{
  "nbformat": 4,
  "nbformat_minor": 0,
  "metadata": {
    "colab": {
      "name": "Assigns-5(Compute Performance metrics without Sklearn).ipynb",
      "provenance": [],
      "collapsed_sections": []
    },
    "kernelspec": {
      "name": "python3",
      "display_name": "Python 3"
    },
    "language_info": {
      "name": "python"
    }
  },
  "cells": [
    {
      "cell_type": "code",
      "metadata": {
        "colab": {
          "base_uri": "https://localhost:8080/",
          "height": 204
        },
        "id": "3T2pDih0cWcu",
        "outputId": "8f209ccf-61f8-48de-e5e9-b6ed8af538bc"
      },
      "source": [
        "## Part-A\n",
        "\n",
        "import pandas as pd\n",
        "import numpy as np\n",
        "\n",
        "df=pd.read_csv('/content/drive/MyDrive/5_a.csv')\n",
        "df.head()"
      ],
      "execution_count": 41,
      "outputs": [
        {
          "output_type": "execute_result",
          "data": {
            "text/html": [
              "<div>\n",
              "<style scoped>\n",
              "    .dataframe tbody tr th:only-of-type {\n",
              "        vertical-align: middle;\n",
              "    }\n",
              "\n",
              "    .dataframe tbody tr th {\n",
              "        vertical-align: top;\n",
              "    }\n",
              "\n",
              "    .dataframe thead th {\n",
              "        text-align: right;\n",
              "    }\n",
              "</style>\n",
              "<table border=\"1\" class=\"dataframe\">\n",
              "  <thead>\n",
              "    <tr style=\"text-align: right;\">\n",
              "      <th></th>\n",
              "      <th>y</th>\n",
              "      <th>proba</th>\n",
              "    </tr>\n",
              "  </thead>\n",
              "  <tbody>\n",
              "    <tr>\n",
              "      <th>0</th>\n",
              "      <td>1.0</td>\n",
              "      <td>0.637387</td>\n",
              "    </tr>\n",
              "    <tr>\n",
              "      <th>1</th>\n",
              "      <td>1.0</td>\n",
              "      <td>0.635165</td>\n",
              "    </tr>\n",
              "    <tr>\n",
              "      <th>2</th>\n",
              "      <td>1.0</td>\n",
              "      <td>0.766586</td>\n",
              "    </tr>\n",
              "    <tr>\n",
              "      <th>3</th>\n",
              "      <td>1.0</td>\n",
              "      <td>0.724564</td>\n",
              "    </tr>\n",
              "    <tr>\n",
              "      <th>4</th>\n",
              "      <td>1.0</td>\n",
              "      <td>0.889199</td>\n",
              "    </tr>\n",
              "  </tbody>\n",
              "</table>\n",
              "</div>"
            ],
            "text/plain": [
              "     y     proba\n",
              "0  1.0  0.637387\n",
              "1  1.0  0.635165\n",
              "2  1.0  0.766586\n",
              "3  1.0  0.724564\n",
              "4  1.0  0.889199"
            ]
          },
          "metadata": {
            "tags": []
          },
          "execution_count": 41
        }
      ]
    },
    {
      "cell_type": "code",
      "metadata": {
        "colab": {
          "base_uri": "https://localhost:8080/",
          "height": 204
        },
        "id": "lSmprpr4eNK6",
        "outputId": "274de937-56c7-4af0-cd37-ab2f2947f89b"
      },
      "source": [
        "## Here we consider threshold value 0.5 and add new column 'Y1'\n",
        "\n",
        "df['Y1']=(df.proba>=.5).astype('int')\n",
        "\n",
        "df.head()"
      ],
      "execution_count": 42,
      "outputs": [
        {
          "output_type": "execute_result",
          "data": {
            "text/html": [
              "<div>\n",
              "<style scoped>\n",
              "    .dataframe tbody tr th:only-of-type {\n",
              "        vertical-align: middle;\n",
              "    }\n",
              "\n",
              "    .dataframe tbody tr th {\n",
              "        vertical-align: top;\n",
              "    }\n",
              "\n",
              "    .dataframe thead th {\n",
              "        text-align: right;\n",
              "    }\n",
              "</style>\n",
              "<table border=\"1\" class=\"dataframe\">\n",
              "  <thead>\n",
              "    <tr style=\"text-align: right;\">\n",
              "      <th></th>\n",
              "      <th>y</th>\n",
              "      <th>proba</th>\n",
              "      <th>Y1</th>\n",
              "    </tr>\n",
              "  </thead>\n",
              "  <tbody>\n",
              "    <tr>\n",
              "      <th>0</th>\n",
              "      <td>1.0</td>\n",
              "      <td>0.637387</td>\n",
              "      <td>1</td>\n",
              "    </tr>\n",
              "    <tr>\n",
              "      <th>1</th>\n",
              "      <td>1.0</td>\n",
              "      <td>0.635165</td>\n",
              "      <td>1</td>\n",
              "    </tr>\n",
              "    <tr>\n",
              "      <th>2</th>\n",
              "      <td>1.0</td>\n",
              "      <td>0.766586</td>\n",
              "      <td>1</td>\n",
              "    </tr>\n",
              "    <tr>\n",
              "      <th>3</th>\n",
              "      <td>1.0</td>\n",
              "      <td>0.724564</td>\n",
              "      <td>1</td>\n",
              "    </tr>\n",
              "    <tr>\n",
              "      <th>4</th>\n",
              "      <td>1.0</td>\n",
              "      <td>0.889199</td>\n",
              "      <td>1</td>\n",
              "    </tr>\n",
              "  </tbody>\n",
              "</table>\n",
              "</div>"
            ],
            "text/plain": [
              "     y     proba  Y1\n",
              "0  1.0  0.637387   1\n",
              "1  1.0  0.635165   1\n",
              "2  1.0  0.766586   1\n",
              "3  1.0  0.724564   1\n",
              "4  1.0  0.889199   1"
            ]
          },
          "metadata": {
            "tags": []
          },
          "execution_count": 42
        }
      ]
    },
    {
      "cell_type": "code",
      "metadata": {
        "colab": {
          "base_uri": "https://localhost:8080/"
        },
        "id": "CNISk6I1dYAd",
        "outputId": "65514768-da02-4dd8-d771-32508893cc42"
      },
      "source": [
        "## for compute tp,tn,fp,fn (confusion matrix)\n",
        "\n",
        "def compute_tp_tn_fp_fn(y,Y1):\n",
        "  tp=sum((y==1)&(Y1==1))\n",
        "  tn=sum((y==0)&(Y1==0))\n",
        "  fp=sum((y==0)&(Y1==1))\n",
        "  fn=sum((y==1)&(Y1==0))\n",
        "  return tp,tn,fp,fn\n",
        "\n",
        "\n",
        "k1,k2,k3,k4=compute_tp_tn_fp_fn(df.y,df.Y1)\n",
        "print('TP:',k1)\n",
        "print('TN:',k2)\n",
        "print('FP:',k3)\n",
        "print('FN:',k4)"
      ],
      "execution_count": 43,
      "outputs": [
        {
          "output_type": "stream",
          "text": [
            "TP: 10000\n",
            "TN: 0\n",
            "FP: 100\n",
            "FN: 0\n"
          ],
          "name": "stdout"
        }
      ]
    },
    {
      "cell_type": "code",
      "metadata": {
        "colab": {
          "base_uri": "https://localhost:8080/"
        },
        "id": "8sr9W_cndX5_",
        "outputId": "11203919-d495-494d-acff-a39f12d3f01a"
      },
      "source": [
        "## compute accuracy-score, precision-score, recall-score, f1-score\n",
        "\n",
        "def compute_accuracy(tp,tn,fp,fn):\n",
        "  return (tp+tn)/(tp+tn+fp+fn)    \n",
        "\n",
        "def compute_precision(tp,fp):\n",
        "  return tp/(tp+fp)\n",
        "\n",
        "def compute_recall(tp,fn):\n",
        "  return tp/(tp+fn)\n",
        "\n",
        "def compute_f1_score(a,b):\n",
        "  f1_score=(2*a*b)/(a+b)\n",
        "  return f1_score           \n",
        "\n",
        "x=compute_precision(k1,k3)\n",
        "y= compute_recall(k1,k4) \n",
        "\n",
        "print('ACCURACY:',compute_accuracy(k1,k2,k3,k4)) \n",
        "print('PRECISION:',compute_precision(k1,k3))\n",
        "print('RECALL:',compute_recall(k1,k4))\n",
        "print('F1_SCORE:',compute_f1_score(x,y))\n"
      ],
      "execution_count": 44,
      "outputs": [
        {
          "output_type": "stream",
          "text": [
            "ACCURACY: 0.9900990099009901\n",
            "PRECISION: 0.9900990099009901\n",
            "RECALL: 1.0\n",
            "F1_SCORE: 0.9950248756218906\n"
          ],
          "name": "stdout"
        }
      ]
    },
    {
      "cell_type": "code",
      "metadata": {
        "colab": {
          "base_uri": "https://localhost:8080/",
          "height": 204
        },
        "id": "_zQprLxZdXys",
        "outputId": "5acd3927-a44f-4e26-eb8b-27af6cb54f9a"
      },
      "source": [
        "## Here consider different threshold values and add new columns(y1,y1,y3,y4,y5,y6,y7,y8)\n",
        "\n",
        "df['y1']=(df.proba>=.1).astype('int')\n",
        "df['y2']=(df.proba>=.2).astype('int')\n",
        "df['y3']=(df.proba>=.3).astype('int')\n",
        "df['y4']=(df.proba>=.4).astype('int')\n",
        "df['y5']=(df.proba>=.5).astype('int')\n",
        "df['y6']=(df.proba>=.6).astype('int')\n",
        "df['y7']=(df.proba>=.7).astype('int')\n",
        "df['y8']=(df.proba>=.8).astype('int')\n",
        "\n",
        "df.head()"
      ],
      "execution_count": 45,
      "outputs": [
        {
          "output_type": "execute_result",
          "data": {
            "text/html": [
              "<div>\n",
              "<style scoped>\n",
              "    .dataframe tbody tr th:only-of-type {\n",
              "        vertical-align: middle;\n",
              "    }\n",
              "\n",
              "    .dataframe tbody tr th {\n",
              "        vertical-align: top;\n",
              "    }\n",
              "\n",
              "    .dataframe thead th {\n",
              "        text-align: right;\n",
              "    }\n",
              "</style>\n",
              "<table border=\"1\" class=\"dataframe\">\n",
              "  <thead>\n",
              "    <tr style=\"text-align: right;\">\n",
              "      <th></th>\n",
              "      <th>y</th>\n",
              "      <th>proba</th>\n",
              "      <th>Y1</th>\n",
              "      <th>y1</th>\n",
              "      <th>y2</th>\n",
              "      <th>y3</th>\n",
              "      <th>y4</th>\n",
              "      <th>y5</th>\n",
              "      <th>y6</th>\n",
              "      <th>y7</th>\n",
              "      <th>y8</th>\n",
              "    </tr>\n",
              "  </thead>\n",
              "  <tbody>\n",
              "    <tr>\n",
              "      <th>0</th>\n",
              "      <td>1.0</td>\n",
              "      <td>0.637387</td>\n",
              "      <td>1</td>\n",
              "      <td>1</td>\n",
              "      <td>1</td>\n",
              "      <td>1</td>\n",
              "      <td>1</td>\n",
              "      <td>1</td>\n",
              "      <td>1</td>\n",
              "      <td>0</td>\n",
              "      <td>0</td>\n",
              "    </tr>\n",
              "    <tr>\n",
              "      <th>1</th>\n",
              "      <td>1.0</td>\n",
              "      <td>0.635165</td>\n",
              "      <td>1</td>\n",
              "      <td>1</td>\n",
              "      <td>1</td>\n",
              "      <td>1</td>\n",
              "      <td>1</td>\n",
              "      <td>1</td>\n",
              "      <td>1</td>\n",
              "      <td>0</td>\n",
              "      <td>0</td>\n",
              "    </tr>\n",
              "    <tr>\n",
              "      <th>2</th>\n",
              "      <td>1.0</td>\n",
              "      <td>0.766586</td>\n",
              "      <td>1</td>\n",
              "      <td>1</td>\n",
              "      <td>1</td>\n",
              "      <td>1</td>\n",
              "      <td>1</td>\n",
              "      <td>1</td>\n",
              "      <td>1</td>\n",
              "      <td>1</td>\n",
              "      <td>0</td>\n",
              "    </tr>\n",
              "    <tr>\n",
              "      <th>3</th>\n",
              "      <td>1.0</td>\n",
              "      <td>0.724564</td>\n",
              "      <td>1</td>\n",
              "      <td>1</td>\n",
              "      <td>1</td>\n",
              "      <td>1</td>\n",
              "      <td>1</td>\n",
              "      <td>1</td>\n",
              "      <td>1</td>\n",
              "      <td>1</td>\n",
              "      <td>0</td>\n",
              "    </tr>\n",
              "    <tr>\n",
              "      <th>4</th>\n",
              "      <td>1.0</td>\n",
              "      <td>0.889199</td>\n",
              "      <td>1</td>\n",
              "      <td>1</td>\n",
              "      <td>1</td>\n",
              "      <td>1</td>\n",
              "      <td>1</td>\n",
              "      <td>1</td>\n",
              "      <td>1</td>\n",
              "      <td>1</td>\n",
              "      <td>1</td>\n",
              "    </tr>\n",
              "  </tbody>\n",
              "</table>\n",
              "</div>"
            ],
            "text/plain": [
              "     y     proba  Y1  y1  y2  y3  y4  y5  y6  y7  y8\n",
              "0  1.0  0.637387   1   1   1   1   1   1   1   0   0\n",
              "1  1.0  0.635165   1   1   1   1   1   1   1   0   0\n",
              "2  1.0  0.766586   1   1   1   1   1   1   1   1   0\n",
              "3  1.0  0.724564   1   1   1   1   1   1   1   1   0\n",
              "4  1.0  0.889199   1   1   1   1   1   1   1   1   1"
            ]
          },
          "metadata": {
            "tags": []
          },
          "execution_count": 45
        }
      ]
    },
    {
      "cell_type": "code",
      "metadata": {
        "colab": {
          "base_uri": "https://localhost:8080/"
        },
        "id": "E4ebUMshmg5E",
        "outputId": "7cb7c8c5-4276-4390-a82a-8e5b6e80770d"
      },
      "source": [
        "## compute tpr and fpr at different threshold values(.1,.2,.3,.4,.5,.6,.7,.8)\n",
        "\n",
        "def compute_tpr(tp,fn):\n",
        "  return ((tp)/(tp+fn))\n",
        "\n",
        "def compute_fpr(fp,tn):\n",
        "  return ((fp)/(fp+tn))\n",
        "\n",
        "k1,k2,k3,k4=compute_tp_tn_fp_fn(df.y,df.y1)\n",
        "print('TPR:',compute_tpr(k1,k4,),  'FPR:',compute_fpr(k3,k2))\n",
        "\n",
        "k1,k2,k3,k4=compute_tp_tn_fp_fn(df.y,df.y2)\n",
        "print('TPR:',compute_tpr(k1,k4,),  'FPR:',compute_fpr(k3,k2))\n",
        "\n",
        "k1,k2,k3,k4=compute_tp_tn_fp_fn(df.y,df.y3)\n",
        "print('TPR:',compute_tpr(k1,k4,),  'FPR:',compute_fpr(k3,k2))\n",
        "\n",
        "k1,k2,k3,k4=compute_tp_tn_fp_fn(df.y,df.y4)\n",
        "print('TPR:',compute_tpr(k1,k4,),  'FPR:',compute_fpr(k3,k2))\n",
        "\n",
        "k1,k2,k3,k4=compute_tp_tn_fp_fn(df.y,df.y5)\n",
        "print('TPR:',compute_tpr(k1,k4,),  'FPR:',compute_fpr(k3,k2))\n",
        "\n",
        "k1,k2,k3,k4=compute_tp_tn_fp_fn(df.y,df.y6)\n",
        "print('TPR:',compute_tpr(k1,k4,),  'FPR:',compute_fpr(k3,k2))\n",
        "\n",
        "k1,k2,k3,k4=compute_tp_tn_fp_fn(df.y,df.y7)\n",
        "print('TPR:',compute_tpr(k1,k4,),  'FPR:',compute_fpr(k3,k2))\n",
        "\n",
        "k1,k2,k3,k4=compute_tp_tn_fp_fn(df.y,df.y8)\n",
        "print('TPR:',compute_tpr(k1,k4,),  'FPR:',compute_fpr(k3,k2))"
      ],
      "execution_count": 46,
      "outputs": [
        {
          "output_type": "stream",
          "text": [
            "TPR: 1.0 FPR: 1.0\n",
            "TPR: 1.0 FPR: 1.0\n",
            "TPR: 1.0 FPR: 1.0\n",
            "TPR: 1.0 FPR: 1.0\n",
            "TPR: 1.0 FPR: 1.0\n",
            "TPR: 0.7509 FPR: 0.78\n",
            "TPR: 0.4912 FPR: 0.49\n",
            "TPR: 0.234 FPR: 0.25\n"
          ],
          "name": "stdout"
        }
      ]
    },
    {
      "cell_type": "code",
      "metadata": {
        "colab": {
          "base_uri": "https://localhost:8080/"
        },
        "id": "6vUckUmsmgn4",
        "outputId": "2b5c2815-59b4-4cd3-f17e-c48797d81769"
      },
      "source": [
        "## calculate AUC\n",
        "\n",
        "tpr_array=np.array([1,1,1,1,1,0.7509,0.4912,0.234])\n",
        "fpr_array=np.array([1,1,1,1,1,0.78,0.49,0.25])\n",
        "\n",
        "np.abs(np.trapz(tpr_array,fpr_array))         \n"
      ],
      "execution_count": 65,
      "outputs": [
        {
          "output_type": "execute_result",
          "data": {
            "text/plain": [
              "0.4597275"
            ]
          },
          "metadata": {
            "tags": []
          },
          "execution_count": 65
        }
      ]
    },
    {
      "cell_type": "code",
      "metadata": {
        "colab": {
          "base_uri": "https://localhost:8080/",
          "height": 204
        },
        "id": "K4SLFCoepIiq",
        "outputId": "d570c6da-d50a-4cb0-bd81-29f90f380a38"
      },
      "source": [
        "## Part-B\n",
        "\n",
        "d=pd.read_csv('/content/drive/MyDrive/5_b.csv')\n",
        "\n",
        "## Here we consider threshold value 0.5 and add new column 'Y1'\n",
        "\n",
        "d['Y1']=(d.proba>=.5).astype('int')\n",
        "\n",
        "d.head()"
      ],
      "execution_count": 66,
      "outputs": [
        {
          "output_type": "execute_result",
          "data": {
            "text/html": [
              "<div>\n",
              "<style scoped>\n",
              "    .dataframe tbody tr th:only-of-type {\n",
              "        vertical-align: middle;\n",
              "    }\n",
              "\n",
              "    .dataframe tbody tr th {\n",
              "        vertical-align: top;\n",
              "    }\n",
              "\n",
              "    .dataframe thead th {\n",
              "        text-align: right;\n",
              "    }\n",
              "</style>\n",
              "<table border=\"1\" class=\"dataframe\">\n",
              "  <thead>\n",
              "    <tr style=\"text-align: right;\">\n",
              "      <th></th>\n",
              "      <th>y</th>\n",
              "      <th>proba</th>\n",
              "      <th>Y1</th>\n",
              "    </tr>\n",
              "  </thead>\n",
              "  <tbody>\n",
              "    <tr>\n",
              "      <th>0</th>\n",
              "      <td>0.0</td>\n",
              "      <td>0.281035</td>\n",
              "      <td>0</td>\n",
              "    </tr>\n",
              "    <tr>\n",
              "      <th>1</th>\n",
              "      <td>0.0</td>\n",
              "      <td>0.465152</td>\n",
              "      <td>0</td>\n",
              "    </tr>\n",
              "    <tr>\n",
              "      <th>2</th>\n",
              "      <td>0.0</td>\n",
              "      <td>0.352793</td>\n",
              "      <td>0</td>\n",
              "    </tr>\n",
              "    <tr>\n",
              "      <th>3</th>\n",
              "      <td>0.0</td>\n",
              "      <td>0.157818</td>\n",
              "      <td>0</td>\n",
              "    </tr>\n",
              "    <tr>\n",
              "      <th>4</th>\n",
              "      <td>0.0</td>\n",
              "      <td>0.276648</td>\n",
              "      <td>0</td>\n",
              "    </tr>\n",
              "  </tbody>\n",
              "</table>\n",
              "</div>"
            ],
            "text/plain": [
              "     y     proba  Y1\n",
              "0  0.0  0.281035   0\n",
              "1  0.0  0.465152   0\n",
              "2  0.0  0.352793   0\n",
              "3  0.0  0.157818   0\n",
              "4  0.0  0.276648   0"
            ]
          },
          "metadata": {
            "tags": []
          },
          "execution_count": 66
        }
      ]
    },
    {
      "cell_type": "code",
      "metadata": {
        "colab": {
          "base_uri": "https://localhost:8080/"
        },
        "id": "ofdSZgDyrxsv",
        "outputId": "ebad4e9c-3554-4d6f-a94e-4dcb22d30b7d"
      },
      "source": [
        "## for compute value tp,tn,fp,fn (confusion matrix)\n",
        "\n",
        "def compute_tp_tn_fp_fn(y,Y1):\n",
        "  tp=sum((y==1)&(Y1==1))\n",
        "  tn=sum((y==0)&(Y1==0))\n",
        "  fp=sum((y==0)&(Y1==1))\n",
        "  fn=sum((y==1)&(Y1==0))\n",
        "  return tp,tn,fp,fn        \n",
        "\n",
        "k1,k2,k3,k4=compute_tp_tn_fp_fn(d.y,d.Y1)\n",
        "print('TP:',k1)\n",
        "print('TN:',k2)\n",
        "print('FP:',k3)\n",
        "print('FN:',k4)"
      ],
      "execution_count": 57,
      "outputs": [
        {
          "output_type": "stream",
          "text": [
            "TP: 55\n",
            "TN: 9761\n",
            "FP: 239\n",
            "FN: 45\n"
          ],
          "name": "stdout"
        }
      ]
    },
    {
      "cell_type": "code",
      "metadata": {
        "colab": {
          "base_uri": "https://localhost:8080/"
        },
        "id": "wtW4gpJ7pIc6",
        "outputId": "25e3ed32-cfa5-47fc-cf98-b64ad741cb26"
      },
      "source": [
        "## compute accuracy-score, precision-score, recall-score, f1-score\n",
        "\n",
        "def compute_accuracy(tp,tn,fp,fn):\n",
        "  return (tp+tn)/(tp+tn+fp+fn)    \n",
        "\n",
        "def compute_precision(tp,fp):\n",
        "  return tp/(tp+fp)\n",
        "\n",
        "def compute_recall(tp,fn):\n",
        "  return tp/(tp+fn)\n",
        "\n",
        "def compute_f1_score(a,b):\n",
        "  f1_score=((2*a*b)*100)/(a+b)\n",
        "  return f1_score          \n",
        "\n",
        "x=compute_precision(k1,k3)/100\n",
        "y= compute_recall(k1,k4)/100  \n",
        "\n",
        "print('ACCURACY:',compute_accuracy(k1,k2,k3,k4)) \n",
        "print('PRECISION:',compute_precision(k1,k3))\n",
        "print('RECALL:',compute_recall(k1,k4))\n",
        "print('F1_SCORE:',compute_f1_score(x,y))\n"
      ],
      "execution_count": 59,
      "outputs": [
        {
          "output_type": "stream",
          "text": [
            "ACCURACY: 0.9718811881188119\n",
            "PRECISION: 0.1870748299319728\n",
            "RECALL: 0.55\n",
            "F1_SCORE: 0.2791878172588833\n"
          ],
          "name": "stdout"
        }
      ]
    },
    {
      "cell_type": "code",
      "metadata": {
        "colab": {
          "base_uri": "https://localhost:8080/",
          "height": 204
        },
        "id": "wRmLPLbQpIXB",
        "outputId": "fc487df2-6b7b-46f9-b3b0-5d5032bc9506"
      },
      "source": [
        "## Here consider different threshold values and add new columns(y1,y1,y3,y4,y5,y6,y7,y8)\n",
        "\n",
        "d['y1']=(d.proba>=.1).astype('int')\n",
        "d['y2']=(d.proba>=.15).astype('int')\n",
        "d['y3']=(d.proba>=.2).astype('int')\n",
        "d['y4']=(d.proba>=.25).astype('int')\n",
        "d['y5']=(d.proba>=.3).astype('int')\n",
        "d['y6']=(d.proba>=.35).astype('int')\n",
        "d['y7']=(d.proba>=.4).astype('int')\n",
        "d['y8']=(d.proba>=.45).astype('int')\n",
        "\n",
        "\n",
        "\n",
        "d.head()"
      ],
      "execution_count": 70,
      "outputs": [
        {
          "output_type": "execute_result",
          "data": {
            "text/html": [
              "<div>\n",
              "<style scoped>\n",
              "    .dataframe tbody tr th:only-of-type {\n",
              "        vertical-align: middle;\n",
              "    }\n",
              "\n",
              "    .dataframe tbody tr th {\n",
              "        vertical-align: top;\n",
              "    }\n",
              "\n",
              "    .dataframe thead th {\n",
              "        text-align: right;\n",
              "    }\n",
              "</style>\n",
              "<table border=\"1\" class=\"dataframe\">\n",
              "  <thead>\n",
              "    <tr style=\"text-align: right;\">\n",
              "      <th></th>\n",
              "      <th>y</th>\n",
              "      <th>proba</th>\n",
              "      <th>Y1</th>\n",
              "      <th>y1</th>\n",
              "      <th>y2</th>\n",
              "      <th>y3</th>\n",
              "      <th>y4</th>\n",
              "      <th>y5</th>\n",
              "      <th>y6</th>\n",
              "      <th>y7</th>\n",
              "      <th>y8</th>\n",
              "    </tr>\n",
              "  </thead>\n",
              "  <tbody>\n",
              "    <tr>\n",
              "      <th>0</th>\n",
              "      <td>0.0</td>\n",
              "      <td>0.281035</td>\n",
              "      <td>0</td>\n",
              "      <td>1</td>\n",
              "      <td>1</td>\n",
              "      <td>1</td>\n",
              "      <td>1</td>\n",
              "      <td>0</td>\n",
              "      <td>0</td>\n",
              "      <td>0</td>\n",
              "      <td>0</td>\n",
              "    </tr>\n",
              "    <tr>\n",
              "      <th>1</th>\n",
              "      <td>0.0</td>\n",
              "      <td>0.465152</td>\n",
              "      <td>0</td>\n",
              "      <td>1</td>\n",
              "      <td>1</td>\n",
              "      <td>1</td>\n",
              "      <td>1</td>\n",
              "      <td>1</td>\n",
              "      <td>1</td>\n",
              "      <td>1</td>\n",
              "      <td>1</td>\n",
              "    </tr>\n",
              "    <tr>\n",
              "      <th>2</th>\n",
              "      <td>0.0</td>\n",
              "      <td>0.352793</td>\n",
              "      <td>0</td>\n",
              "      <td>1</td>\n",
              "      <td>1</td>\n",
              "      <td>1</td>\n",
              "      <td>1</td>\n",
              "      <td>1</td>\n",
              "      <td>1</td>\n",
              "      <td>0</td>\n",
              "      <td>0</td>\n",
              "    </tr>\n",
              "    <tr>\n",
              "      <th>3</th>\n",
              "      <td>0.0</td>\n",
              "      <td>0.157818</td>\n",
              "      <td>0</td>\n",
              "      <td>1</td>\n",
              "      <td>1</td>\n",
              "      <td>0</td>\n",
              "      <td>0</td>\n",
              "      <td>0</td>\n",
              "      <td>0</td>\n",
              "      <td>0</td>\n",
              "      <td>0</td>\n",
              "    </tr>\n",
              "    <tr>\n",
              "      <th>4</th>\n",
              "      <td>0.0</td>\n",
              "      <td>0.276648</td>\n",
              "      <td>0</td>\n",
              "      <td>1</td>\n",
              "      <td>1</td>\n",
              "      <td>1</td>\n",
              "      <td>1</td>\n",
              "      <td>0</td>\n",
              "      <td>0</td>\n",
              "      <td>0</td>\n",
              "      <td>0</td>\n",
              "    </tr>\n",
              "  </tbody>\n",
              "</table>\n",
              "</div>"
            ],
            "text/plain": [
              "     y     proba  Y1  y1  y2  y3  y4  y5  y6  y7  y8\n",
              "0  0.0  0.281035   0   1   1   1   1   0   0   0   0\n",
              "1  0.0  0.465152   0   1   1   1   1   1   1   1   1\n",
              "2  0.0  0.352793   0   1   1   1   1   1   1   0   0\n",
              "3  0.0  0.157818   0   1   1   0   0   0   0   0   0\n",
              "4  0.0  0.276648   0   1   1   1   1   0   0   0   0"
            ]
          },
          "metadata": {
            "tags": []
          },
          "execution_count": 70
        }
      ]
    },
    {
      "cell_type": "code",
      "metadata": {
        "colab": {
          "base_uri": "https://localhost:8080/"
        },
        "id": "w8oHC8AjpIRV",
        "outputId": "199d22e8-85ce-40dc-e354-77cfb897745a"
      },
      "source": [
        "## compute tpr and fpr at different threshold values\n",
        "\n",
        "def compute_tpr(tp,fn):\n",
        "  return tp/(tp+fn)\n",
        "\n",
        "def compute_fpr(fp,tn):\n",
        "  return fp/(fp+tn)\n",
        "\n",
        "k1,k2,k3,k4=compute_tp_tn_fp_fn(d.y,d.y1)\n",
        "print('TPR:',compute_tpr(k1,k4,),  'FPR:',compute_fpr(k3,k2))\n",
        "\n",
        "k1,k2,k3,k4=compute_tp_tn_fp_fn(d.y,d.y2)\n",
        "print('TPR:',compute_tpr(k1,k4,),  'FPR:',compute_fpr(k3,k2))\n",
        "\n",
        "k1,k2,k3,k4=compute_tp_tn_fp_fn(d.y,d.y3)\n",
        "print('TPR:',compute_tpr(k1,k4,),  'FPR:',compute_fpr(k3,k2))\n",
        "\n",
        "k1,k2,k3,k4=compute_tp_tn_fp_fn(d.y,d.y4)\n",
        "print('TPR:',compute_tpr(k1,k4,),  'FPR:',compute_fpr(k3,k2))\n",
        "\n",
        "k1,k2,k3,k4=compute_tp_tn_fp_fn(d.y,d.y5)\n",
        "print('TPR:',compute_tpr(k1,k4,),  'FPR:',compute_fpr(k3,k2))\n",
        "\n",
        "k1,k2,k3,k4=compute_tp_tn_fp_fn(d.y,d.y6)\n",
        "print('TPR:',compute_tpr(k1,k4,),  'FPR:',compute_fpr(k3,k2))\n",
        "\n",
        "k1,k2,k3,k4=compute_tp_tn_fp_fn(d.y,d.y7)\n",
        "print('TPR:',compute_tpr(k1,k4,),  'FPR:',compute_fpr(k3,k2))\n",
        "\n",
        "k1,k2,k3,k4=compute_tp_tn_fp_fn(d.y,d.y8)\n",
        "print('TPR:',compute_tpr(k1,k4,),  'FPR:',compute_fpr(k3,k2))\n",
        "\n",
        "\n"
      ],
      "execution_count": 71,
      "outputs": [
        {
          "output_type": "stream",
          "text": [
            "TPR: 1.0 FPR: 1.0\n",
            "TPR: 1.0 FPR: 0.8759\n",
            "TPR: 1.0 FPR: 0.7497\n",
            "TPR: 1.0 FPR: 0.6255\n",
            "TPR: 1.0 FPR: 0.5032\n",
            "TPR: 1.0 FPR: 0.3892\n",
            "TPR: 1.0 FPR: 0.2683\n",
            "TPR: 0.79 FPR: 0.1458\n"
          ],
          "name": "stdout"
        }
      ]
    },
    {
      "cell_type": "code",
      "metadata": {
        "colab": {
          "base_uri": "https://localhost:8080/"
        },
        "id": "U2rlTjjrzT5_",
        "outputId": "d5abbe2b-5a16-4363-f18c-f49e04c1ada6"
      },
      "source": [
        "## calculate AUC\n",
        "\n",
        "tpr_array=np.array([1,1,1,1,1,1,1,0.79])\n",
        "fpr_array=np.array([1,0.8759,0.7497,0.6255,0.5032,0.3892,0.2683,0.1458])\n",
        "\n",
        "np.abs(np.trapz(tpr_array,fpr_array))           \n"
      ],
      "execution_count": 72,
      "outputs": [
        {
          "output_type": "execute_result",
          "data": {
            "text/plain": [
              "0.8413375"
            ]
          },
          "metadata": {
            "tags": []
          },
          "execution_count": 72
        }
      ]
    },
    {
      "cell_type": "code",
      "metadata": {
        "colab": {
          "base_uri": "https://localhost:8080/"
        },
        "id": "XPz0Y9fKzqZb",
        "outputId": "a1c4ab1c-4b52-4fd3-fa19-04391b07d64c"
      },
      "source": [
        "## Part-C\n",
        "\n",
        "# A= 500*no. of fn + 100*no. of fp\n",
        "# find threshold value at which A gives lowest value\n",
        "\n",
        "dc=pd.read_csv('/content/drive/MyDrive/5_c.csv')\n",
        "\n",
        "dc['y1']=(dc.prob>=.1).astype('int')\n",
        "dc['y2']=(dc.prob>=.2).astype('int')\n",
        "dc['y3']=(dc.prob>=.23).astype('int')\n",
        "dc['y4']=(dc.prob>=.3).astype('int')\n",
        "dc['y5']=(dc.prob>=.4).astype('int')\n",
        "dc['y6']=(dc.prob>=.5).astype('int')\n",
        "dc['y7']=(dc.prob>=.6).astype('int')\n",
        "dc['y8']=(dc.prob>=.7).astype('int')\n",
        "dc['y9']=(dc.prob>=.8).astype('int')\n",
        "dc['y10']=(dc.prob>=.9).astype('int')\n",
        "\n",
        "TP,TN,FP,FN=compute_tp_tn_fp_fn(dc.y,dc.y1)\n",
        "print('FP:',FP, 'FN:',FN,'A:',500*FN+100*FP)\n",
        "\n",
        "TP,TN,FP,FN=compute_tp_tn_fp_fn(dc.y,dc.y2)\n",
        "print('FP:',FP, 'FN:',FN,'A:',500*FN+100*FP)\n",
        "\n",
        "TP,TN,FP,FN=compute_tp_tn_fp_fn(dc.y,dc.y3)\n",
        "print('FP:',FP, 'FN:',FN,'A:',500*FN+100*FP)\n",
        "\n",
        "TP,TN,FP,FN=compute_tp_tn_fp_fn(dc.y,dc.y4)\n",
        "print('FP:',FP, 'FN:',FN,'A:',500*FN+100*FP)\n",
        "\n",
        "TP,TN,FP,FN=compute_tp_tn_fp_fn(dc.y,dc.y5)\n",
        "print('FP:',FP, 'FN:',FN,'A:',500*FN+100*FP)\n",
        "\n",
        "TP,TN,FP,FN=compute_tp_tn_fp_fn(dc.y,dc.y6)\n",
        "print('FP:',FP, 'FN:',FN,'A:',500*FN+100*FP)\n",
        "\n",
        "TP,TN,FP,FN=compute_tp_tn_fp_fn(dc.y,dc.y7)\n",
        "print('FP:',FP, 'FN:',FN,'A:',500*FN+100*FP)\n",
        "\n",
        "TP,TN,FP,FN=compute_tp_tn_fp_fn(dc.y,dc.y8)\n",
        "print('FP:',FP, 'FN:',FN,'A:',500*FN+100*FP)\n",
        "\n",
        "TP,TN,FP,FN=compute_tp_tn_fp_fn(dc.y,dc.y9)\n",
        "print('FP:',FP, 'FN:',FN,'A:',500*FN+100*FP)\n",
        "\n",
        "## At threshold value 0.23 , 'A' gives lowest value\n"
      ],
      "execution_count": 73,
      "outputs": [
        {
          "output_type": "stream",
          "text": [
            "FP: 1630 FN: 7 A: 166500\n",
            "FP: 1162 FN: 62 A: 147200\n",
            "FP: 1020 FN: 78 A: 141000\n",
            "FP: 733 FN: 165 A: 155800\n",
            "FP: 399 FN: 296 A: 187900\n",
            "FP: 168 FN: 462 A: 247800\n",
            "FP: 56 FN: 666 A: 338600\n",
            "FP: 16 FN: 845 A: 424100\n",
            "FP: 4 FN: 939 A: 469900\n"
          ],
          "name": "stdout"
        }
      ]
    },
    {
      "cell_type": "code",
      "metadata": {
        "colab": {
          "base_uri": "https://localhost:8080/",
          "height": 359
        },
        "id": "BXCZxJ3t1eis",
        "outputId": "c8de779a-6396-4d76-9a0e-fffcf6ad6815"
      },
      "source": [
        "## Part-D\n",
        "\n",
        "dd=pd.read_csv('/content/drive/MyDrive/5_d.csv')\n",
        "dd.head(10)"
      ],
      "execution_count": 85,
      "outputs": [
        {
          "output_type": "execute_result",
          "data": {
            "text/html": [
              "<div>\n",
              "<style scoped>\n",
              "    .dataframe tbody tr th:only-of-type {\n",
              "        vertical-align: middle;\n",
              "    }\n",
              "\n",
              "    .dataframe tbody tr th {\n",
              "        vertical-align: top;\n",
              "    }\n",
              "\n",
              "    .dataframe thead th {\n",
              "        text-align: right;\n",
              "    }\n",
              "</style>\n",
              "<table border=\"1\" class=\"dataframe\">\n",
              "  <thead>\n",
              "    <tr style=\"text-align: right;\">\n",
              "      <th></th>\n",
              "      <th>y</th>\n",
              "      <th>pred</th>\n",
              "    </tr>\n",
              "  </thead>\n",
              "  <tbody>\n",
              "    <tr>\n",
              "      <th>0</th>\n",
              "      <td>101.0</td>\n",
              "      <td>100.0</td>\n",
              "    </tr>\n",
              "    <tr>\n",
              "      <th>1</th>\n",
              "      <td>120.0</td>\n",
              "      <td>100.0</td>\n",
              "    </tr>\n",
              "    <tr>\n",
              "      <th>2</th>\n",
              "      <td>131.0</td>\n",
              "      <td>113.0</td>\n",
              "    </tr>\n",
              "    <tr>\n",
              "      <th>3</th>\n",
              "      <td>164.0</td>\n",
              "      <td>125.0</td>\n",
              "    </tr>\n",
              "    <tr>\n",
              "      <th>4</th>\n",
              "      <td>154.0</td>\n",
              "      <td>152.0</td>\n",
              "    </tr>\n",
              "    <tr>\n",
              "      <th>5</th>\n",
              "      <td>133.0</td>\n",
              "      <td>153.0</td>\n",
              "    </tr>\n",
              "    <tr>\n",
              "      <th>6</th>\n",
              "      <td>148.0</td>\n",
              "      <td>139.0</td>\n",
              "    </tr>\n",
              "    <tr>\n",
              "      <th>7</th>\n",
              "      <td>172.0</td>\n",
              "      <td>145.0</td>\n",
              "    </tr>\n",
              "    <tr>\n",
              "      <th>8</th>\n",
              "      <td>153.0</td>\n",
              "      <td>162.0</td>\n",
              "    </tr>\n",
              "    <tr>\n",
              "      <th>9</th>\n",
              "      <td>162.0</td>\n",
              "      <td>154.0</td>\n",
              "    </tr>\n",
              "  </tbody>\n",
              "</table>\n",
              "</div>"
            ],
            "text/plain": [
              "       y   pred\n",
              "0  101.0  100.0\n",
              "1  120.0  100.0\n",
              "2  131.0  113.0\n",
              "3  164.0  125.0\n",
              "4  154.0  152.0\n",
              "5  133.0  153.0\n",
              "6  148.0  139.0\n",
              "7  172.0  145.0\n",
              "8  153.0  162.0\n",
              "9  162.0  154.0"
            ]
          },
          "metadata": {
            "tags": []
          },
          "execution_count": 85
        }
      ]
    },
    {
      "cell_type": "code",
      "metadata": {
        "colab": {
          "base_uri": "https://localhost:8080/"
        },
        "id": "tsf0bbmOzqIi",
        "outputId": "6b2688ab-6961-45eb-aec6-593ed10c53ea"
      },
      "source": [
        "## Compute mean square error\n",
        "\n",
        "a = np.subtract(dd.y,dd.pred)\n",
        "b = np.square(a)\n",
        "Mean_Square_Error = b.mean()\n",
        "print('Mean_Square_Error:',Mean_Square_Error)"
      ],
      "execution_count": 86,
      "outputs": [
        {
          "output_type": "stream",
          "text": [
            "Mean_Square_Error: 177.16569974554707\n"
          ],
          "name": "stdout"
        }
      ]
    },
    {
      "cell_type": "code",
      "metadata": {
        "colab": {
          "base_uri": "https://localhost:8080/"
        },
        "id": "BVOexXrOzqAS",
        "outputId": "29649fa1-68e3-4932-fbfe-472e87ac5353"
      },
      "source": [
        "## compute MAPE\n",
        "\n",
        "def percent_err(act,pred):\n",
        "  n = np.empty(act.shape)\n",
        "  for i in range(act.shape[0]):\n",
        "    if act[i] != 0:\n",
        "      n[i] = (act[i]-pred[i])/act[i]\n",
        "    else:\n",
        "      n[i] = pred[i]/np.mean(act)\n",
        "  return n      \n",
        "\n",
        "\n",
        "def mape(actual,pred):\n",
        "\n",
        "  a,b = np.array(actual), np.array(pred)\n",
        "  \n",
        "  return np.mean(np.abs(percent_err(a,b)))*100\n",
        "\n",
        "\n",
        "mape(dd.y,dd.pred)"
      ],
      "execution_count": 87,
      "outputs": [
        {
          "output_type": "execute_result",
          "data": {
            "text/plain": [
              "28.199462330815688"
            ]
          },
          "metadata": {
            "tags": []
          },
          "execution_count": 87
        }
      ]
    },
    {
      "cell_type": "code",
      "metadata": {
        "colab": {
          "base_uri": "https://localhost:8080/"
        },
        "id": "av9ww8NFMt48",
        "outputId": "3faf1fae-795e-4558-9068-f76aa89b7a7c"
      },
      "source": [
        "## compute R-square(R^2) error\n",
        "\n",
        "a = np.mean(dd.y)\n",
        "b = dd.y\n",
        "b1 = dd.pred\n",
        "\n",
        "c = np.subtract(b,a)\n",
        "c1 = np.square(c)\n",
        "SS_total = np.sum(c1)\n",
        "\n",
        "d = np.subtract(b,b1)\n",
        "c2 = np.square(d)\n",
        "SS_res = np.sum(c2)\n",
        "\n",
        "x = (SS_res/SS_total)\n",
        "\n",
        "print('R^2 :',(1-x))\n",
        "\n"
      ],
      "execution_count": 88,
      "outputs": [
        {
          "output_type": "stream",
          "text": [
            "R^2 : 0.9563582786990937\n"
          ],
          "name": "stdout"
        }
      ]
    }
  ]
}